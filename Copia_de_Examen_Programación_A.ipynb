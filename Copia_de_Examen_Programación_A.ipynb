{
  "nbformat": 4,
  "nbformat_minor": 0,
  "metadata": {
    "colab": {
      "name": "Copia de Examen Programación - A.ipynb",
      "provenance": [],
      "collapsed_sections": [],
      "include_colab_link": true
    },
    "kernelspec": {
      "name": "python3",
      "display_name": "Python 3"
    }
  },
  "cells": [
    {
      "cell_type": "markdown",
      "metadata": {
        "id": "view-in-github",
        "colab_type": "text"
      },
      "source": [
        "<a href=\"https://colab.research.google.com/github/andrea248/UNMSM_programacion/blob/master/Copia_de_Examen_Programaci%C3%B3n_A.ipynb\" target=\"_parent\"><img src=\"https://colab.research.google.com/assets/colab-badge.svg\" alt=\"Open In Colab\"/></a>"
      ]
    },
    {
      "cell_type": "markdown",
      "metadata": {
        "id": "y7Oq4Se1jAkk",
        "colab_type": "text"
      },
      "source": [
        "# EXAMEN PARCIAL DE PROGRAMACIÓN - A"
      ]
    },
    {
      "cell_type": "markdown",
      "metadata": {
        "id": "d6Dtx5cijHuN",
        "colab_type": "text"
      },
      "source": [
        "Nombres y apellidos: guerra gamarra andrea\n",
        "\n",
        "Código: 18160217"
      ]
    },
    {
      "cell_type": "markdown",
      "metadata": {
        "id": "V2Gv10h-SbX4",
        "colab_type": "text"
      },
      "source": [
        "***\n",
        "Instrucciones:\n",
        "- El examen es personal\n",
        "- Se puede usar internet\n",
        "- Una vez terminado, descargar en formato **.ipynb** su examen con su código de estudiante y subir a esta [carpeta compartida](https://drive.google.com/drive/u/0/folders/1eBFAtL33yaYqMgKdX1NbunjEAhRqoSGX) (ejemplo: 17160099.ipynb)\n",
        "***"
      ]
    },
    {
      "cell_type": "markdown",
      "metadata": {
        "id": "2NrjVzQIjRH2",
        "colab_type": "text"
      },
      "source": [
        "## Nivel 1 (1 pt c/u)"
      ]
    },
    {
      "cell_type": "markdown",
      "metadata": {
        "id": "fzRUS1LSKWWP",
        "colab_type": "text"
      },
      "source": [
        "nombre: andrea guerra gamarra "
      ]
    },
    {
      "cell_type": "markdown",
      "metadata": {
        "id": "qCk2aiwfj47k",
        "colab_type": "text"
      },
      "source": [
        "\n",
        "1. Cuáles son los lenguajes básicos para crear una página web.\n",
        "\n",
        "Lenguaje Python\n",
        "Lenguaje PHP\n",
        "Lenguaje JavaScript\n",
        "Lenguaje Ruby"
      ]
    },
    {
      "cell_type": "markdown",
      "metadata": {
        "id": "UVTdV9izj6bV",
        "colab_type": "text"
      },
      "source": [
        "2. Explicar cómo crear un repositorio virtual en Github y subir archivos a este.\n",
        "\n",
        "primero tienes que crear una cuenta en github , luego entras y le das click en nuevo repositorio Ahora debes de colocar un nombre separado por guiones medio o guiones bajo por ejemplo nombre_de_tu_repositorio y activar el checkbox que dice Initialize this repository with a README  para crear tu primero archivo en el repositorio, este archivo README se usa para colocar una descripción de tu proyecto, bien haces clic en el botón Create repository para crear el repositorio\n",
        "En este punto tienes 2 opciones para subir archivos a tu repositorio, seleccionando una ventana para abrir los archivos o arrastrando los archivos al repositorio, arrastras y sueltas los archivos ya que mediante esta manera tienes más capacidad de subir múltiples archivos\n",
        "para subir varios archivos de tu proyecto has clic en Upload Files "
      ]
    },
    {
      "cell_type": "markdown",
      "metadata": {
        "id": "TtoAf5SzkUrK",
        "colab_type": "text"
      },
      "source": [
        "3. Explicar las diferencias entre el modo apertura **lectura** y **escritura**."
      ]
    },
    {
      "cell_type": "markdown",
      "metadata": {
        "id": "wjeC4BozdcWe",
        "colab_type": "text"
      },
      "source": [
        "Modo de sólo lectura (r). En este caso no es posible realizar modificaciones sobre el archivo, solamente leer su contenido.\n",
        "Modo de sólo escritura (w). En este caso el archivo es truncado (vaciado) si existe, y se lo crea si no existe.\n",
        "Modo sólo escritura posicionándose al final del archivo (a). En este caso se crea el archivo, si no existe, pero en caso de que exista se posiciona al final, manteniendo el contenido original."
      ]
    },
    {
      "cell_type": "markdown",
      "metadata": {
        "id": "s5KOFqH9k0JV",
        "colab_type": "text"
      },
      "source": [
        "4. ¿La siguiente expresión es válida? Explicar por qué.\n",
        "         x = \"hello!\"\n",
        "         x *= \"world\""
      ]
    },
    {
      "cell_type": "markdown",
      "metadata": {
        "id": "QDTfPELzlu7a",
        "colab_type": "text"
      },
      "source": [
        "5. Mencionar 3 librerías para el lenguaje Python.\n",
        "\n",
        "colorama kivy pyweather pyQt pygtk "
      ]
    },
    {
      "cell_type": "markdown",
      "metadata": {
        "id": "GF3My8OX-jiE",
        "colab_type": "text"
      },
      "source": [
        "6. Calcule el resto de la siguiente ecuación\n",
        "\n",
        "$$ \\frac {3^3 - \\sqrt{6^2 - 5^2}} {12} $$"
      ]
    },
    {
      "cell_type": "code",
      "metadata": {
        "id": "mDDtM66ldl6a",
        "colab_type": "code",
        "colab": {
          "base_uri": "https://localhost:8080/",
          "height": 34
        },
        "outputId": "b4646935-e6d4-484d-b474-0f49950a7f35"
      },
      "source": [
        "(3**3-(6**2-5**2)**0.5)/12"
      ],
      "execution_count": 68,
      "outputs": [
        {
          "output_type": "execute_result",
          "data": {
            "text/plain": [
              "1.9736146008037168"
            ]
          },
          "metadata": {
            "tags": []
          },
          "execution_count": 68
        }
      ]
    },
    {
      "cell_type": "markdown",
      "metadata": {
        "id": "X7GmTqRAKErt",
        "colab_type": "text"
      },
      "source": [
        "7. Crear un diccionario con 3 llaves y que sus valores sean tuplas o listas. Finalmente guardalo como archivo **json**."
      ]
    },
    {
      "cell_type": "markdown",
      "metadata": {
        "id": "QSPXazJHmDn_",
        "colab_type": "text"
      },
      "source": [
        "## Nivel 2 (2 pt c/u)"
      ]
    },
    {
      "cell_type": "markdown",
      "metadata": {
        "id": "80fxdaFCq6Zy",
        "colab_type": "text"
      },
      "source": [
        "1. Escribir una función que elimine de una lista dada todos los elementos repetidos y devuelvalos elementos de la lista sin repeticiones."
      ]
    },
    {
      "cell_type": "code",
      "metadata": {
        "id": "rt3nUzf9RjVQ",
        "colab_type": "code",
        "colab": {
          "base_uri": "https://localhost:8080/",
          "height": 34
        },
        "outputId": "f85e31b9-9e2e-4747-d157-c4981dc4622a"
      },
      "source": [
        "mj1 = [2, 4, 4, 4, 4, 4, 9, 9]\n",
        "mj2 = set(mj1)\n",
        "mj2 = set([9, 2, 4])\n",
        "list(mj2)\n",
        "[9, 2, 4]"
      ],
      "execution_count": 16,
      "outputs": [
        {
          "output_type": "execute_result",
          "data": {
            "text/plain": [
              "[9, 2, 4]"
            ]
          },
          "metadata": {
            "tags": []
          },
          "execution_count": 16
        }
      ]
    },
    {
      "cell_type": "markdown",
      "metadata": {
        "id": "xlTKqgTLz2Eb",
        "colab_type": "text"
      },
      "source": [
        "2. Crear una función que muestre los n primeros números primos."
      ]
    },
    {
      "cell_type": "code",
      "metadata": {
        "id": "VXmWce6XVDOo",
        "colab_type": "code",
        "colab": {}
      },
      "source": [
        "def primo(num):\n",
        " if num < 2: #si es menor de 2 no es primo, devolverá Falso\n",
        "   return False\n",
        " for i in range(2, num): #un ciclo desde el 2 hasta el num de entrada\n",
        "   if num % i == 0: #si el resto da 0 no es primo, devuelve Falso\n",
        "    return False\n",
        " return True #de lo contrario devuelve Verdadero\n"
      ],
      "execution_count": 0,
      "outputs": []
    },
    {
      "cell_type": "code",
      "metadata": {
        "id": "SFYry5QcVQ7T",
        "colab_type": "code",
        "colab": {
          "base_uri": "https://localhost:8080/",
          "height": 34
        },
        "outputId": "6aa1ad80-7046-48cb-8e73-1f6cf14c918e"
      },
      "source": [
        "primo(2)\n",
        "primo(3)\n",
        "primo(4)"
      ],
      "execution_count": 35,
      "outputs": [
        {
          "output_type": "execute_result",
          "data": {
            "text/plain": [
              "False"
            ]
          },
          "metadata": {
            "tags": []
          },
          "execution_count": 35
        }
      ]
    },
    {
      "cell_type": "markdown",
      "metadata": {
        "id": "xUCYTvIt9V7L",
        "colab_type": "text"
      },
      "source": [
        "3. Realizar una función que pida el valor de los tres lados de un triángulo y demuestre su existencia."
      ]
    },
    {
      "cell_type": "code",
      "metadata": {
        "id": "A6opt9fFeUUq",
        "colab_type": "code",
        "colab": {
          "base_uri": "https://localhost:8080/",
          "height": 68
        },
        "outputId": "42b6c9e9-2f49-4e83-f354-1b3f6755fed1"
      },
      "source": [
        "import math\n",
        "def triangulo(x, y, z):\n",
        "   perimetro = x + y + z\n",
        "   sp = perimetro / 2 # semiperimetro\n",
        "   area = math.sqrt(sp*(sp - x)*(sp - y)*(sp - z)) # formula de Heron\n",
        "   print(\"El perimetro del triangulo es: {}\".format(perimetro))\n",
        "   print(\"El area del triangulo es: {}\".format(round(area, 2)))\n",
        "    \n",
        "   return perimetro, round(area, 2)\n",
        "\n",
        "triangulo(4, 5, 6)"
      ],
      "execution_count": 54,
      "outputs": [
        {
          "output_type": "stream",
          "text": [
            "El perimetro del triangulo es: 15\n",
            "El area del triangulo es: 9.92\n"
          ],
          "name": "stdout"
        },
        {
          "output_type": "execute_result",
          "data": {
            "text/plain": [
              "(15, 9.92)"
            ]
          },
          "metadata": {
            "tags": []
          },
          "execution_count": 54
        }
      ]
    },
    {
      "cell_type": "markdown",
      "metadata": {
        "id": "d8HeIR1J18Kw",
        "colab_type": "text"
      },
      "source": [
        "## Nivel 3 (3 pt c/u)"
      ]
    },
    {
      "cell_type": "markdown",
      "metadata": {
        "id": "_NLJHa9_088m",
        "colab_type": "text"
      },
      "source": [
        "1. Crear una función que invierta una frase e identifique si es palíndroma o no.\n",
        "\n",
        "    Ejemplo: \n",
        "\n",
        "    **\"Anita lava la tina\" --> \"anit al aval atinA\" (Es palíndroma)**\n",
        "\n",
        "    **\"Hola mundo\" --> \"odnum aloH\"                 (No es palíndroma)**"
      ]
    },
    {
      "cell_type": "code",
      "metadata": {
        "id": "VsiBuD2RV73a",
        "colab_type": "code",
        "colab": {
          "base_uri": "https://localhost:8080/",
          "height": 34
        },
        "outputId": "e29f2402-3a58-416b-f084-8be204594922"
      },
      "source": [
        "print ((\"anita lava la tina\")[::-1])"
      ],
      "execution_count": 37,
      "outputs": [
        {
          "output_type": "stream",
          "text": [
            "anit al aval atina\n"
          ],
          "name": "stdout"
        }
      ]
    },
    {
      "cell_type": "markdown",
      "metadata": {
        "id": "QCuaQSrRWmlB",
        "colab_type": "text"
      },
      "source": [
        "no es palindroma \n"
      ]
    },
    {
      "cell_type": "code",
      "metadata": {
        "id": "rNdcV5-wZouu",
        "colab_type": "code",
        "colab": {
          "base_uri": "https://localhost:8080/",
          "height": 34
        },
        "outputId": "bfe420ef-b868-4ee7-d940-429583702748"
      },
      "source": [
        "def palindromo(palabra):\n",
        "    palabra_procesada = palabra\n",
        "    x= palabra_procesada[::-1]\n",
        "    if x == palabra_procesada:\n",
        "        print(\"la palabra {} es un palindromo\".format(palabra))\n",
        "    else:\n",
        "        print(\"la palabra {} no es un palindromo\".format(palabra))\n",
        "\n",
        "palindromo(\"anitalavalatina\")"
      ],
      "execution_count": 36,
      "outputs": [
        {
          "output_type": "stream",
          "text": [
            "la palabra anitalavalatina es un palindromo\n"
          ],
          "name": "stdout"
        }
      ]
    },
    {
      "cell_type": "markdown",
      "metadata": {
        "id": "aGu8vTil2Ri7",
        "colab_type": "text"
      },
      "source": [
        "2. Crear una función que cuente la cantidad de letras que se repiten en un texto y las devuelva en un diccionario.\n",
        "\n",
        "    Ejemplo:\n",
        "    \n",
        "    **\"bienvenido\"**\n",
        "    \n",
        "    **{\"b\":1, \"i\":2, \"e\":2, \"n\":2, \"v\":1, \"d\":1, \"o\":1}**\n",
        "    "
      ]
    },
    {
      "cell_type": "markdown",
      "metadata": {
        "id": "bglr14EiWl3a",
        "colab_type": "text"
      },
      "source": [
        ""
      ]
    },
    {
      "cell_type": "code",
      "metadata": {
        "id": "06FKq_IWg7nR",
        "colab_type": "code",
        "colab": {}
      },
      "source": [
        ""
      ],
      "execution_count": 0,
      "outputs": []
    },
    {
      "cell_type": "markdown",
      "metadata": {
        "id": "TlOFiJM2CJF9",
        "colab_type": "text"
      },
      "source": [
        "3. Crear una función para calcular el área de una sección circular.\n",
        "\n",
        "![](http://www.disfrutalasmatematicas.com/geometria/images/circle-arc-length.gif)"
      ]
    },
    {
      "cell_type": "code",
      "metadata": {
        "id": "dMC6Yz6XbXt3",
        "colab_type": "code",
        "colab": {}
      },
      "source": [
        "def area_seccir(longitugd,radio):\n",
        "\t\"\"\"Funcion que hace operacion para calcula el area de un seccir\"\"\"\n",
        "\tarea = (longitud*radio)/2 \n",
        "\tprint (\"El area es: \",area)\n",
        "  \n"
      ],
      "execution_count": 0,
      "outputs": []
    },
    {
      "cell_type": "code",
      "metadata": {
        "id": "ljwJ-w3pcMb7",
        "colab_type": "code",
        "colab": {
          "base_uri": "https://localhost:8080/",
          "height": 34
        },
        "outputId": "376b8879-4fd6-4ee9-eead-612fdef02c08"
      },
      "source": [
        " area_seccir(10,3)"
      ],
      "execution_count": 56,
      "outputs": [
        {
          "output_type": "stream",
          "text": [
            "El area es:  15.0\n"
          ],
          "name": "stdout"
        }
      ]
    },
    {
      "cell_type": "markdown",
      "metadata": {
        "id": "kjCoXuAdWhyO",
        "colab_type": "text"
      },
      "source": [
        "4. Crear una lista con los nombres de todas las ciudades del archivo [sudamerica.json](https://github.com/ryali93/UNMSM_programacion/blob/master/data/sudamerica.json)\n",
        "\n",
        "    Ayuda: *descargar el archivo JSON con la opción Raw*"
      ]
    },
    {
      "cell_type": "markdown",
      "metadata": {
        "id": "1G5Rp42x3KHa",
        "colab_type": "text"
      },
      "source": [
        "## Nivel 4 (4 pt):"
      ]
    },
    {
      "cell_type": "markdown",
      "metadata": {
        "id": "KGJx9ZQRDwba",
        "colab_type": "text"
      },
      "source": [
        "1. Un ingeniero está realizando el diseño de un canal de regadío para un pequeño pueblo, cree una función para que, dependiendo del tipo de sección que usará, pueda saber el área, perímetro mojado, radio hidráulico y espejo de agua de su sección. (Elegir 2 tipos de sección)\n",
        "\n",
        "![](https://upload.wikimedia.org/wikipedia/commons/5/59/Radio_Hidr%C3%A1ulico_geometria_fundamental.gif)"
      ]
    },
    {
      "cell_type": "markdown",
      "metadata": {
        "id": "wPPUwC7I3Ohq",
        "colab_type": "text"
      },
      "source": [
        "2. Teniendo las listas:\n",
        "\n",
        "    x = [8, 2, 11, 6, 5, 4, 12, 9, 6, 1]\n",
        "    \n",
        "    y = [3, 10, 3, 6, 8, 12, 1, 4, 9, 14]\n",
        "    \n",
        "    Calcule la pendiente de la recta\n",
        "\n",
        "    $$ m = \\frac {\\sum{xy} - \\frac{(\\sum{x}) (\\sum{y})}n} {\\sum{x}^2 - {\\frac {(\\sum{x})^2}n}} $$\n",
        "\n",
        "    Calcule la intercepción en **y** de la forma\n",
        "\n",
        "    $$ b = \\bar{y} - m\\bar{x} $$\n",
        "\n",
        "    Use la pendiente y la intercepción en y para formar la ecuación de la recta."
      ]
    }
  ]
}